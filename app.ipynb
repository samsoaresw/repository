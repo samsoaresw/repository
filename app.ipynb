{
 "cells": [
  {
   "cell_type": "code",
   "execution_count": 1,
   "id": "8db7742b",
   "metadata": {},
   "outputs": [],
   "source": [
    "from typing import List, Tuple\n",
    "\n",
    "import pandas as pd\n",
    "import plotly.express as px\n",
    "import streamlit as st"
   ]
  },
  {
   "cell_type": "code",
   "execution_count": 2,
   "id": "7da8c976",
   "metadata": {},
   "outputs": [],
   "source": [
    "def set_page_config():\n",
    "    st.set_page_config(\n",
    "        page_title=\"Sales Dashboard\",\n",
    "        page_icon=\":bar_chart:\",\n",
    "        layout=\"wide\",\n",
    "        initial_sidebar_state=\"expanded\",\n",
    "    )\n",
    "    st.markdown(\"<style> footer {visibility: hidden;} </style>\", unsafe_allow_html=True)"
   ]
  },
  {
   "cell_type": "code",
   "execution_count": 3,
   "id": "820f2e89",
   "metadata": {},
   "outputs": [
    {
     "name": "stderr",
     "output_type": "stream",
     "text": [
      "2023-09-14 12:44:33.797 WARNING streamlit.runtime.caching.cache_data_api: No runtime found, using MemoryCacheStorageManager\n"
     ]
    }
   ],
   "source": [
    "@st.cache_data\n",
    "def load_data() -> pd.DataFrame:\n",
    "    data = pd.read_csv('data/sales_data_sample.csv', encoding='latin1')\n",
    "    data['ORDERDATE'] = pd.to_datetime(data['ORDERDATE'])\n",
    "    return data"
   ]
  },
  {
   "cell_type": "code",
   "execution_count": 6,
   "id": "b8009f73",
   "metadata": {},
   "outputs": [
    {
     "name": "stderr",
     "output_type": "stream",
     "text": [
      "2023-09-14 12:45:41.034 No runtime found, using MemoryCacheStorageManager\n"
     ]
    }
   ],
   "source": [
    "def filter_data(data: pd.DataFrame, column: str, values: List[str]) -> pd.DataFrame:\n",
    "    return data[data[column].isin(values)] if values else data\n",
    "\n",
    "\n",
    "@st.cache_data\n",
    "def calculate_kpis(data: pd.DataFrame) -> List[float]:\n",
    "    total_sales = data['SALES'].sum()\n",
    "    sales_in_m = f\"{total_sales / 1000000:.2f}M\"\n",
    "    total_orders = data['ORDERNUMBER'].nunique()\n",
    "    average_sales_per_order = f\"{total_sales / total_orders / 1000:.2f}K\"\n",
    "    unique_customers = data['CUSTOMERNAME'].nunique()\n",
    "    return [sales_in_m, total_orders, average_sales_per_order, unique_customers]"
   ]
  },
  {
   "cell_type": "code",
   "execution_count": 7,
   "id": "2de205ef",
   "metadata": {},
   "outputs": [],
   "source": [
    "def display_kpi_metrics(kpis: List[float], kpi_names: List[str]):\n",
    "    st.header(\"KPI Metrics\")\n",
    "    for i, (col, (kpi_name, kpi_value)) in enumerate(zip(st.columns(4), zip(kpi_names, kpis))):\n",
    "        col.metric(label=kpi_name, value=kpi_value)"
   ]
  },
  {
   "cell_type": "code",
   "execution_count": 8,
   "id": "8bc8f1a6",
   "metadata": {},
   "outputs": [],
   "source": [
    "def display_sidebar(data: pd.DataFrame) -> Tuple[List[str], List[str], List[str]]:\n",
    "    st.sidebar.header(\"Filters\")\n",
    "    start_date = pd.Timestamp(st.sidebar.date_input(\"Start date\", data['ORDERDATE'].min().date()))\n",
    "    end_date = pd.Timestamp(st.sidebar.date_input(\"End date\", data['ORDERDATE'].max().date()))\n",
    "\n",
    "    product_lines = sorted(data['PRODUCTLINE'].unique())\n",
    "    selected_product_lines = st.sidebar.multiselect(\"Product lines\", product_lines, product_lines)\n",
    "\n",
    "    selected_countries = st.sidebar.multiselect(\"Select Countries\", data['COUNTRY'].unique())\n",
    "\n",
    "    selected_statuses = st.sidebar.multiselect(\"Select Order Statuses\", data['STATUS'].unique())\n",
    "\n",
    "    return selected_product_lines, selected_countries, selected_statuses"
   ]
  },
  {
   "cell_type": "code",
   "execution_count": 9,
   "id": "d9322472",
   "metadata": {},
   "outputs": [],
   "source": [
    "def display_charts(data: pd.DataFrame):\n",
    "    combine_product_lines = st.checkbox(\"Combine Product Lines\", value=True)\n",
    "\n",
    "    if combine_product_lines:\n",
    "        fig = px.area(data, x='ORDERDATE', y='SALES',\n",
    "                      title=\"Sales by Product Line Over Time\", width=900, height=500)\n",
    "    else:\n",
    "        fig = px.area(data, x='ORDERDATE', y='SALES', color='PRODUCTLINE',\n",
    "                      title=\"Sales by Product Line Over Time\", width=900, height=500)\n",
    "\n",
    "    fig.update_layout(margin=dict(l=20, r=20, t=50, b=20))\n",
    "    fig.update_xaxes(rangemode='tozero', showgrid=False)\n",
    "    fig.update_yaxes(rangemode='tozero', showgrid=True)\n",
    "    st.plotly_chart(fig, use_container_width=True)\n",
    "\n",
    "    col1, col2, col3 = st.columns(3)\n",
    "\n",
    "    with col1:\n",
    "        st.subheader(\"Top 10 Customers\")\n",
    "        top_customers = data.groupby('CUSTOMERNAME')['SALES'].sum().reset_index().sort_values('SALES',\n",
    "                                                                                              ascending=False).head(10)\n",
    "        st.write(top_customers)\n",
    "\n",
    "    with col2:\n",
    "        st.subheader(\"Top 10 Products by Sales\")\n",
    "        top_products = data.groupby(['PRODUCTCODE', 'PRODUCTLINE'])['SALES'].sum().reset_index().sort_values('SALES',\n",
    "                                                                                                             ascending=False).head(\n",
    "            10)\n",
    "        st.write(top_products)\n",
    "\n",
    "    with col3:\n",
    "        st.subheader(\"Total Sales by Product Line\")\n",
    "        total_sales_by_product_line = data.groupby('PRODUCTLINE')['SALES'].sum().reset_index()\n",
    "        st.write(total_sales_by_product_line)"
   ]
  },
  {
   "cell_type": "code",
   "execution_count": 10,
   "id": "75d24d89",
   "metadata": {},
   "outputs": [
    {
     "name": "stderr",
     "output_type": "stream",
     "text": [
      "2023-09-14 12:46:21.634 No runtime found, using MemoryCacheStorageManager\n"
     ]
    }
   ],
   "source": [
    "def main():\n",
    "    set_page_config()\n",
    "\n",
    "    data = load_data()\n",
    "\n",
    "    st.title(\"📊 Sales Dashboard\")\n",
    "\n",
    "    selected_product_lines, selected_countries, selected_statuses = display_sidebar(data)\n",
    "\n",
    "    filtered_data = data.copy()\n",
    "    filtered_data = filter_data(filtered_data, 'PRODUCTLINE', selected_product_lines)\n",
    "    filtered_data = filter_data(filtered_data, 'COUNTRY', selected_countries)\n",
    "    filtered_data = filter_data(filtered_data, 'STATUS', selected_statuses)\n",
    "\n",
    "    kpis = calculate_kpis(filtered_data)\n",
    "    kpi_names = [\"Total Sales\", \"Total Orders\", \"Average Sales per Order\", \"Unique Customers\"]\n",
    "    display_kpi_metrics(kpis, kpi_names)\n",
    "\n",
    "    display_charts(filtered_data)\n",
    "\n",
    "\n",
    "if __name__ == '__main__':\n",
    "    main()"
   ]
  },
  {
   "cell_type": "code",
   "execution_count": null,
   "id": "257362c9",
   "metadata": {},
   "outputs": [],
   "source": []
  }
 ],
 "metadata": {
  "kernelspec": {
   "display_name": "Python 3 (ipykernel)",
   "language": "python",
   "name": "python3"
  },
  "language_info": {
   "codemirror_mode": {
    "name": "ipython",
    "version": 3
   },
   "file_extension": ".py",
   "mimetype": "text/x-python",
   "name": "python",
   "nbconvert_exporter": "python",
   "pygments_lexer": "ipython3",
   "version": "3.9.13"
  }
 },
 "nbformat": 4,
 "nbformat_minor": 5
}
